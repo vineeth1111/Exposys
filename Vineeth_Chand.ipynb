{
 "cells": [
  {
   "cell_type": "code",
   "execution_count": 1,
   "metadata": {},
   "outputs": [],
   "source": [
    "import pandas as pd"
   ]
  },
  {
   "cell_type": "code",
   "execution_count": 2,
   "metadata": {},
   "outputs": [
    {
     "name": "stderr",
     "output_type": "stream",
     "text": [
      "C:\\Users\\UF145GV\\Anaconda3\\lib\\site-packages\\ipykernel_launcher.py:1: ParserWarning: Falling back to the 'python' engine because the 'c' engine does not support regex separators (separators > 1 char and different from '\\s+' are interpreted as regex); you can avoid this warning by specifying engine='python'.\n",
      "  \"\"\"Entry point for launching an IPython kernel.\n"
     ]
    }
   ],
   "source": [
    "df=pd.read_csv('C:/Users/UF145GV/Downloads/LabelledData (1).txt', delimiter=',,,')\n",
    "df.to_csv('C:/Users/UF145GV/Downloads/LabelledData.csv', index=False)"
   ]
  },
  {
   "cell_type": "code",
   "execution_count": 3,
   "metadata": {},
   "outputs": [],
   "source": [
    "import re \n",
    "import nltk\n",
    "from nltk.stem.porter import PorterStemmer\n",
    "from sklearn.feature_extraction.text import CountVectorizer\n",
    "from sklearn.svm import SVC\n",
    "from sklearn.preprocessing import LabelEncoder\n"
   ]
  },
  {
   "cell_type": "code",
   "execution_count": 4,
   "metadata": {},
   "outputs": [
    {
     "data": {
      "text/html": [
       "<div>\n",
       "<style scoped>\n",
       "    .dataframe tbody tr th:only-of-type {\n",
       "        vertical-align: middle;\n",
       "    }\n",
       "\n",
       "    .dataframe tbody tr th {\n",
       "        vertical-align: top;\n",
       "    }\n",
       "\n",
       "    .dataframe thead th {\n",
       "        text-align: right;\n",
       "    }\n",
       "</style>\n",
       "<table border=\"1\" class=\"dataframe\">\n",
       "  <thead>\n",
       "    <tr style=\"text-align: right;\">\n",
       "      <th></th>\n",
       "      <th>Sentence</th>\n",
       "      <th>Root_Word</th>\n",
       "    </tr>\n",
       "  </thead>\n",
       "  <tbody>\n",
       "    <tr>\n",
       "      <th>0</th>\n",
       "      <td>how did serfdom develop in and then leave russ...</td>\n",
       "      <td>unknown</td>\n",
       "    </tr>\n",
       "    <tr>\n",
       "      <th>1</th>\n",
       "      <td>what films featured the character popeye doyle ?</td>\n",
       "      <td>what</td>\n",
       "    </tr>\n",
       "    <tr>\n",
       "      <th>2</th>\n",
       "      <td>how can i find a list of celebrities ' real na...</td>\n",
       "      <td>unknown</td>\n",
       "    </tr>\n",
       "    <tr>\n",
       "      <th>3</th>\n",
       "      <td>what fowl grabs the spotlight after the chines...</td>\n",
       "      <td>what</td>\n",
       "    </tr>\n",
       "    <tr>\n",
       "      <th>4</th>\n",
       "      <td>what is the full form of .com ?</td>\n",
       "      <td>what</td>\n",
       "    </tr>\n",
       "    <tr>\n",
       "      <th>5</th>\n",
       "      <td>what contemptible scoundrel stole the cork fro...</td>\n",
       "      <td>what</td>\n",
       "    </tr>\n",
       "    <tr>\n",
       "      <th>6</th>\n",
       "      <td>what team did baseball 's st. louis browns bec...</td>\n",
       "      <td>what</td>\n",
       "    </tr>\n",
       "    <tr>\n",
       "      <th>7</th>\n",
       "      <td>what is the oldest profession ?</td>\n",
       "      <td>what</td>\n",
       "    </tr>\n",
       "    <tr>\n",
       "      <th>8</th>\n",
       "      <td>what are liver enzymes ?</td>\n",
       "      <td>what</td>\n",
       "    </tr>\n",
       "    <tr>\n",
       "      <th>9</th>\n",
       "      <td>name the scar-faced bounty hunter of the old w...</td>\n",
       "      <td>unknown</td>\n",
       "    </tr>\n",
       "  </tbody>\n",
       "</table>\n",
       "</div>"
      ],
      "text/plain": [
       "                                            Sentence Root_Word\n",
       "0  how did serfdom develop in and then leave russ...   unknown\n",
       "1  what films featured the character popeye doyle ?       what\n",
       "2  how can i find a list of celebrities ' real na...   unknown\n",
       "3  what fowl grabs the spotlight after the chines...      what\n",
       "4                   what is the full form of .com ?       what\n",
       "5  what contemptible scoundrel stole the cork fro...      what\n",
       "6  what team did baseball 's st. louis browns bec...      what\n",
       "7                   what is the oldest profession ?       what\n",
       "8                          what are liver enzymes ?       what\n",
       "9  name the scar-faced bounty hunter of the old w...   unknown"
      ]
     },
     "execution_count": 4,
     "metadata": {},
     "output_type": "execute_result"
    }
   ],
   "source": [
    "#importing Dataset\n",
    "df=pd.read_csv('C:/Users/UF145GV/Downloads/LabelledData.csv', names=['Sentence', 'Root_Word'])\n",
    "df.head(10)"
   ]
  },
  {
   "cell_type": "code",
   "execution_count": 5,
   "metadata": {},
   "outputs": [],
   "source": [
    "corpus=[]\n",
    "#reducing words to their root forms\n",
    "ps=PorterStemmer()\n",
    "\n",
    "for i in range(len(df)):\n",
    "    text=re.sub('[^a-zA-Z]', ' ', df['Sentence'][i]).lower().split()\n",
    "    text=[ps.stem(word) for word in text]\n",
    "    text=' '.join(text)\n",
    "    corpus.append(text)\n",
    "    \n",
    "    "
   ]
  },
  {
   "cell_type": "code",
   "execution_count": 6,
   "metadata": {},
   "outputs": [],
   "source": [
    "cv=CountVectorizer(max_features=120)\n",
    "X=cv.fit_transform(corpus).toarray()\n",
    "Y=df.iloc[:, -1].values\n"
   ]
  },
  {
   "cell_type": "code",
   "execution_count": 7,
   "metadata": {},
   "outputs": [],
   "source": [
    "from sklearn.model_selection import train_test_split\n",
    "\n",
    "X_train, X_test, Y_train, Y_test=train_test_split(X, Y, test_size=0.1, random_state=100)"
   ]
  },
  {
   "cell_type": "code",
   "execution_count": 8,
   "metadata": {},
   "outputs": [],
   "source": [
    "#using SVC model for prediction\n",
    "classifier=SVC()\n",
    "\n",
    "classifier.fit(X_train, Y_train)\n",
    "\n",
    "Y_predict=classifier.predict(X_test)"
   ]
  },
  {
   "cell_type": "code",
   "execution_count": 9,
   "metadata": {},
   "outputs": [],
   "source": [
    "# import matplotlib.pyplot as plt \n",
    "\n",
    "# plt.plot(his.history['accuracy'])\n",
    "# plt.plot(his.history['val_accuracy'])\n",
    "# plt.legend(['train', 'test'])\n",
    "# plt.show()"
   ]
  },
  {
   "cell_type": "code",
   "execution_count": 10,
   "metadata": {},
   "outputs": [
    {
     "name": "stdout",
     "output_type": "stream",
     "text": [
      "[' what' ' what' ' what' ' what' ' when' ' what' ' who' ' what' ' who'\n",
      " ' what' ' what' ' what' ' what' ' who' ' what' ' affirmation' ' unknown'\n",
      " ' what' ' what' ' who' ' what' ' what' ' who' ' what' ' what' ' when'\n",
      " ' what' ' what' ' what' ' what' ' what' ' who' ' who' ' who' ' who'\n",
      " ' what' ' who' ' when' ' who' ' what' ' what' ' what' ' who' ' who'\n",
      " ' affirmation' ' what' ' who' ' affirmation' ' what' ' when' ' what'\n",
      " ' who' ' what' ' what' ' what' ' who' ' what' ' what' ' affirmation'\n",
      " ' affirmation' ' affirmation' ' who' ' what' ' who' ' what' ' unknown'\n",
      " ' who' ' affirmation' ' unknown' ' unknown' ' what' ' what' ' what'\n",
      " ' what' ' what' ' what' ' what' ' who' ' what' ' who' ' when' ' what'\n",
      " ' what' ' unknown' ' what' ' who' ' unknown' ' unknown' ' what'\n",
      " ' unknown' ' unknown' ' what' ' unknown' ' who' ' unknown' ' when'\n",
      " ' what' ' what' ' who' ' what' ' unknown' ' unknown' ' what' ' what'\n",
      " ' what' ' what' ' what' ' what' ' what' ' what' ' unknown' ' unknown'\n",
      " ' what' ' unknown' ' affirmation' ' affirmation' ' who' ' who' ' what'\n",
      " ' who' ' what' ' who' ' when' ' what' ' who' ' who' ' who' ' who' ' what'\n",
      " ' who' ' who' ' what' ' what' ' what' ' unknown' ' when' ' what' ' who'\n",
      " ' unknown' ' unknown' ' what' ' what' ' what' ' what' ' unknown'\n",
      " ' affirmation' ' who' ' what' ' what']\n"
     ]
    }
   ],
   "source": [
    "\n",
    "print(Y_predict)"
   ]
  },
  {
   "cell_type": "code",
   "execution_count": 11,
   "metadata": {},
   "outputs": [
    {
     "name": "stdout",
     "output_type": "stream",
     "text": [
      "0.9530201342281879\n"
     ]
    }
   ],
   "source": [
    "from sklearn.metrics import accuracy_score\n",
    "\n",
    "cm=accuracy_score(Y_test, Y_predict)\n",
    "print(cm)"
   ]
  },
  {
   "cell_type": "code",
   "execution_count": 12,
   "metadata": {},
   "outputs": [],
   "source": [
    "# from sklearn.naive_bayes import ComplementNB\n",
    "\n",
    "# mb=ComplementNB()\n",
    "\n",
    "# mb.fit(X_train,Y_train)\n",
    "\n",
    "# Y_predict=mb.predict(X_test)"
   ]
  },
  {
   "cell_type": "code",
   "execution_count": 13,
   "metadata": {},
   "outputs": [],
   "source": [
    "#using LGbM \n",
    "# from lightgbm import LGBMClassifier\n",
    "\n",
    "# lg=LGBMClassifier(boosting_type='gbdt', max_depth=6, learning_rate=0.05, objective='multiclass', reg_alpha=0,\n",
    "#                   reg_lambda=1, n_jobs=-1, random_state=100, n_estimators=400)\n",
    "\n",
    "# his=lg.fit(X_train, Y_train)\n",
    "# Y_predict=lg.predict(X_test)\n",
    "\n",
    "# print(accuracy_score(Y_test, Y_predict))"
   ]
  },
  {
   "cell_type": "code",
   "execution_count": 14,
   "metadata": {},
   "outputs": [],
   "source": [
    "# import matplotlib.pyplot as plt \n",
    "\n",
    "# plt.plot(his.history['accuracy'])\n",
    "# plt.plot(his.history['val_accuracy'])\n",
    "# plt.legend(['train', 'test'])\n",
    "# plt.show()"
   ]
  },
  {
   "cell_type": "code",
   "execution_count": 15,
   "metadata": {},
   "outputs": [],
   "source": [
    "#Test Data Preparation\n",
    "#downloaded file from link\n",
    "with open('C:/Users/UF145GV/Downloads/train_1000_label.txt', 'r') as in_file:\n",
    "#     stripped_file=(line.strip() for line in in_file)\n",
    "    lines=[' '.join(line.split()[1:]) for line in in_file if line]   \n",
    "    \n",
    "    \n",
    "df_test=pd.DataFrame()\n",
    "df_test['Sentence']=lines\n",
    "\n",
    "\n",
    "\n"
   ]
  },
  {
   "cell_type": "code",
   "execution_count": 16,
   "metadata": {},
   "outputs": [
    {
     "name": "stdout",
     "output_type": "stream",
     "text": [
      "[[0 0 0 0 1 0 0 0 0 0 0 0 0 0 0 0 0 0 0 0 0 0 0 0 0 0 1 0 0 0 0 0 0 0 0 0\n",
      "  0 0 0 0 0 0 0 0 0 0 1 1 0 0 0 0 0 0 0 0 0 0 0 0 0 0 0 0 0 0 0 0 0 0 0 0\n",
      "  0 0 0 0 0 0 0 0 0 0 0 0 0 0 0 0 0 0 0 0 0 0 0 0 0 0 0 0 0 0 0 0 0 0 0 0\n",
      "  0 0 0 0 0 0 0 0 0 0 0 0]\n",
      " [0 0 0 0 0 0 0 0 0 0 0 0 0 0 0 0 0 0 0 1 0 0 0 0 0 0 0 0 0 0 0 0 1 0 0 0\n",
      "  0 0 0 0 0 0 0 0 0 0 0 0 0 0 0 0 0 0 0 0 0 0 0 0 0 0 0 0 0 0 0 0 0 0 0 0\n",
      "  0 0 0 0 0 0 0 0 0 0 0 0 0 0 0 0 0 0 0 0 0 0 0 1 0 0 0 0 0 0 0 0 0 0 0 0\n",
      "  1 0 0 0 0 0 0 0 0 0 0 0]\n",
      " [0 0 0 0 0 0 0 0 0 0 0 0 0 0 0 0 0 1 0 0 0 0 0 0 0 0 0 0 0 0 0 0 0 1 0 0\n",
      "  0 0 0 0 0 0 0 0 0 0 1 0 0 0 0 0 0 0 0 0 0 0 0 0 0 0 0 0 0 0 0 0 1 0 0 0\n",
      "  1 0 0 0 0 0 0 0 0 0 0 0 0 0 0 0 0 0 0 0 0 0 0 0 0 0 0 0 0 0 0 0 0 0 0 0\n",
      "  0 0 0 0 0 0 0 0 0 0 0 0]\n",
      " [0 0 0 0 0 0 0 0 0 0 0 0 0 0 0 0 0 0 0 0 0 0 0 0 0 0 0 0 0 0 0 0 0 0 0 0\n",
      "  0 0 0 0 0 0 0 0 0 0 0 0 0 0 0 0 0 0 0 0 0 0 0 0 0 0 0 0 0 0 0 0 0 0 0 0\n",
      "  1 0 0 0 0 0 0 0 0 0 0 0 0 0 0 0 0 0 0 0 0 0 0 3 0 0 0 0 0 0 0 0 0 0 0 0\n",
      "  1 0 0 0 0 0 0 0 0 1 0 0]\n",
      " [0 0 0 0 0 0 0 0 0 0 0 0 0 0 0 0 0 0 0 0 0 0 0 0 0 0 0 0 0 0 0 0 0 0 0 0\n",
      "  0 0 0 0 0 0 0 0 0 0 0 0 0 1 0 0 0 0 0 0 0 0 0 0 0 0 0 0 0 0 0 0 0 0 0 0\n",
      "  1 0 0 0 0 0 0 0 0 0 0 0 0 0 0 0 0 0 0 0 0 0 0 1 0 0 0 0 0 0 0 0 0 0 0 0\n",
      "  1 0 0 0 0 0 0 0 0 0 0 0]]\n"
     ]
    }
   ],
   "source": [
    "#preprocessing test data\n",
    "corpus=[]\n",
    "#reducing words to their root forms\n",
    "ps=PorterStemmer()\n",
    "\n",
    "for i in range(len(df_test)):\n",
    "    text=re.sub('[^a-zA-Z]', ' ', df_test['Sentence'][i]).lower().split()\n",
    "    text=[ps.stem(word) for word in text]\n",
    "    text=' '.join(text)\n",
    "    corpus.append(text)\n",
    "    \n",
    "cv=CountVectorizer(max_features=120)\n",
    "X_main_test=cv.fit_transform(corpus).toarray()\n",
    "\n",
    "print(X_main_test[:5])\n"
   ]
  },
  {
   "cell_type": "code",
   "execution_count": 17,
   "metadata": {},
   "outputs": [],
   "source": [
    "Y_maintest_predict=classifier.predict(X_main_test)\n",
    "df_test['Result']=Y_maintest_predict\n",
    "\n",
    "df_test.to_csv('C:/Users/UF145GV/Downloads/LabelledData_test.csv', index=False)\n",
    "    "
   ]
  }
 ],
 "metadata": {
  "kernelspec": {
   "display_name": "Python 3",
   "language": "python",
   "name": "python3"
  },
  "language_info": {
   "codemirror_mode": {
    "name": "ipython",
    "version": 3
   },
   "file_extension": ".py",
   "mimetype": "text/x-python",
   "name": "python",
   "nbconvert_exporter": "python",
   "pygments_lexer": "ipython3",
   "version": "3.7.6"
  }
 },
 "nbformat": 4,
 "nbformat_minor": 4
}
